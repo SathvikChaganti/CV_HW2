{
 "cells": [
  {
   "cell_type": "code",
   "execution_count": 1,
   "id": "1990cace",
   "metadata": {},
   "outputs": [],
   "source": [
    "import cv2\n",
    "import numpy as np\n",
    "img = cv2.imread('IMG1.jpg',1)"
   ]
  },
  {
   "cell_type": "code",
   "execution_count": 2,
   "id": "56bca335",
   "metadata": {},
   "outputs": [],
   "source": [
    "# convert image to gray\n",
    "im_gray = cv2.cvtColor(img, cv2.COLOR_BGR2GRAY)"
   ]
  },
  {
   "cell_type": "code",
   "execution_count": 3,
   "id": "32876ef1",
   "metadata": {},
   "outputs": [],
   "source": [
    "#threshold gray image to b and w\n",
    "ret,thresh2 = cv2.threshold(im_gray,120,255,cv2.THRESH_BINARY_INV)"
   ]
  },
  {
   "cell_type": "code",
   "execution_count": 4,
   "id": "1d81be9d",
   "metadata": {},
   "outputs": [],
   "source": [
    "# dilate and erode image\n",
    "kernel = np.ones((5,5), np.uint8)\n",
    "img_dilation = cv2.dilate(thresh2, kernel, iterations=2)"
   ]
  },
  {
   "cell_type": "code",
   "execution_count": 5,
   "id": "ce5b66e5",
   "metadata": {},
   "outputs": [],
   "source": [
    "kernel = np.ones((10,10), np.uint8)\n",
    "img_erosion = cv2.erode(img_dilation, kernel, iterations=1)"
   ]
  },
  {
   "cell_type": "code",
   "execution_count": 6,
   "id": "43c6d1b2",
   "metadata": {},
   "outputs": [],
   "source": [
    "# detect corners\n",
    "gray = np.float32(img_erosion)\n",
    "dst = cv2.cornerHarris(gray,5,19,0.07)"
   ]
  },
  {
   "cell_type": "code",
   "execution_count": 7,
   "id": "3d1d583d",
   "metadata": {},
   "outputs": [],
   "source": [
    "dst = cv2.dilate(dst,None,iterations=2)"
   ]
  },
  {
   "cell_type": "code",
   "execution_count": 8,
   "id": "eacea070",
   "metadata": {},
   "outputs": [],
   "source": [
    "img[dst>0.01*dst.max()]=[0,0,255]"
   ]
  },
  {
   "cell_type": "code",
   "execution_count": 9,
   "id": "423f2c42",
   "metadata": {},
   "outputs": [
    {
     "data": {
      "text/plain": [
       "True"
      ]
     },
     "execution_count": 9,
     "metadata": {},
     "output_type": "execute_result"
    }
   ],
   "source": [
    "cv2.imwrite('dst.png', dst)\n",
    "cv2.imwrite('img2.png', img)"
   ]
  },
  {
   "cell_type": "code",
   "execution_count": null,
   "id": "fbe947e9",
   "metadata": {},
   "outputs": [],
   "source": []
  }
 ],
 "metadata": {
  "kernelspec": {
   "display_name": "Python 3",
   "language": "python",
   "name": "python3"
  },
  "language_info": {
   "codemirror_mode": {
    "name": "ipython",
    "version": 3
   },
   "file_extension": ".py",
   "mimetype": "text/x-python",
   "name": "python",
   "nbconvert_exporter": "python",
   "pygments_lexer": "ipython3",
   "version": "3.8.8"
  }
 },
 "nbformat": 4,
 "nbformat_minor": 5
}
